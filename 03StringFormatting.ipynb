{
 "cells": [
  {
   "cell_type": "raw",
   "metadata": {},
   "source": []
  },
  {
   "cell_type": "code",
   "execution_count": 1,
   "metadata": {
    "collapsed": false
   },
   "outputs": [
    {
     "name": "stdout",
     "output_type": "stream",
     "text": [
      "Vou inserir alguma coisa aqui\n"
     ]
    }
   ],
   "source": [
    "print(\"Vou inserir %s aqui\" % \"alguma coisa\")"
   ]
  },
  {
   "cell_type": "code",
   "execution_count": 4,
   "metadata": {
    "collapsed": false
   },
   "outputs": [
    {
     "name": "stdout",
     "output_type": "stream",
     "text": [
      "Vou inserir alguma coisa aqui outra coisa e e mais uma coisa  \n"
     ]
    }
   ],
   "source": [
    "print(\"Vou inserir %s aqui %s e %s\" % (\"alguma coisa\" , \"outra coisa\" , \"e mais uma coisa  \"))"
   ]
  },
  {
   "cell_type": "code",
   "execution_count": 6,
   "metadata": {
    "collapsed": false
   },
   "outputs": [
    {
     "name": "stdout",
     "output_type": "stream",
     "text": [
      "Vou inserir alguma coisa aqui outra coisa e e mais uma coisa  \n"
     ]
    }
   ],
   "source": [
    "x = \"alguma coisa\"\n",
    "y=\"outra coisa\" \n",
    "z=\"e mais uma coisa  \"\n",
    "print(\"Vou inserir %s aqui %s e %s\" % (x , y , z))"
   ]
  },
  {
   "cell_type": "code",
   "execution_count": 7,
   "metadata": {
    "collapsed": false
   },
   "outputs": [
    {
     "name": "stdout",
     "output_type": "stream",
     "text": [
      "Numero decimal: 13.14\n"
     ]
    }
   ],
   "source": [
    "print(\"Numero decimal: %5.2f\" % 13.144)"
   ]
  },
  {
   "cell_type": "code",
   "execution_count": 12,
   "metadata": {
    "collapsed": false
   },
   "outputs": [
    {
     "name": "stdout",
     "output_type": "stream",
     "text": [
      "Numero decimal:      13.14\n"
     ]
    }
   ],
   "source": [
    "print(\"Numero decimal: %10.2f\" % 13.144)"
   ]
  },
  {
   "cell_type": "raw",
   "metadata": {},
   "source": [
    "print(\"primeiro: %s\\nsegundo:%5.2f\\nterceiro:%5d%(\"ola\" , 3.14 , 500))"
   ]
  },
  {
   "cell_type": "code",
   "execution_count": 19,
   "metadata": {
    "collapsed": false
   },
   "outputs": [
    {
     "ename": "SyntaxError",
     "evalue": "EOL while scanning string literal (<ipython-input-19-f212ab993e15>, line 1)",
     "output_type": "error",
     "traceback": [
      "\u001b[0;36m  File \u001b[0;32m\"<ipython-input-19-f212ab993e15>\"\u001b[0;36m, line \u001b[0;32m1\u001b[0m\n\u001b[0;31m    print(\"primeiro: %s\\nsegundo:%5.2f\\nterceiro:%5d%\"('ola' , 3.14 , 500)\")\u001b[0m\n\u001b[0m                                                                            ^\u001b[0m\n\u001b[0;31mSyntaxError\u001b[0m\u001b[0;31m:\u001b[0m EOL while scanning string literal\n"
     ]
    }
   ],
   "source": [
    "print(\"primeiro: %s\\nsegundo:%5.2f\\nterceiro:%5d%\"('ola' , 3.14 , 500)\")"
   ]
  },
  {
   "cell_type": "code",
   "execution_count": 22,
   "metadata": {
    "collapsed": false
   },
   "outputs": [
    {
     "name": "stdout",
     "output_type": "stream",
     "text": [
      "primeiro: ola\n",
      "segundo:3.1415\n",
      "terceiro: 500\n"
     ]
    }
   ],
   "source": [
    "print(\"primeiro: \" + \"ola\" + \"\\nsegundo:\" + str(3.1415) + \"\\nterceiro: \" + str(500))"
   ]
  },
  {
   "cell_type": "code",
   "execution_count": 27,
   "metadata": {
    "collapsed": false
   },
   "outputs": [
    {
     "name": "stdout",
     "output_type": "stream",
     "text": [
      "Vou inserir alguma coisa aqui.\n"
     ]
    }
   ],
   "source": [
    "print(\"Vou inserir {} aqui.\".format(\"alguma coisa\"))"
   ]
  },
  {
   "cell_type": "code",
   "execution_count": 30,
   "metadata": {
    "collapsed": false
   },
   "outputs": [
    {
     "name": "stdout",
     "output_type": "stream",
     "text": [
      "Vou inserir mais outra coisa aqui e outra coisa e alguma coisa.\n"
     ]
    }
   ],
   "source": [
    "print(\"Vou inserir {2} aqui e {1} e {0}.\".format(\"alguma coisa\" , \"outra coisa\" , \"mais outra coisa\"))"
   ]
  },
  {
   "cell_type": "code",
   "execution_count": 32,
   "metadata": {
    "collapsed": false
   },
   "outputs": [
    {
     "name": "stdout",
     "output_type": "stream",
     "text": [
      "Fruta    | Qualidade\n",
      "Maca     |         3\n",
      "Laranja  |        10\n"
     ]
    }
   ],
   "source": [
    "print('{0:8} | {1:9}'.format('Fruta' , 'Qualidade'))\n",
    "print('{0:8} | {1:9}'.format('Maca' , 3))\n",
    "print('{0:8} | {1:9}'.format('Laranja' , 10))\n"
   ]
  },
  {
   "cell_type": "code",
   "execution_count": 33,
   "metadata": {
    "collapsed": false
   },
   "outputs": [
    {
     "name": "stdout",
     "output_type": "stream",
     "text": [
      "Left     | Center   | Right   \n"
     ]
    }
   ],
   "source": [
    "print('{0:8} | {1:8} | {2:8}'.format('Left' , 'Center' , 'Right'))"
   ]
  },
  {
   "cell_type": "code",
   "execution_count": 38,
   "metadata": {
    "collapsed": false
   },
   "outputs": [
    {
     "name": "stdout",
     "output_type": "stream",
     "text": [
      "Left==== | -Center- | ...Right\n",
      "10====== | ---11--- | ......12\n"
     ]
    }
   ],
   "source": [
    "print('{0:=<8} | {1:-^8} | {2:.>8}'.format('Left' , 'Center' , 'Right'))\n",
    "print('{0:=<8} | {1:-^8} | {2:.>8}'.format(10 , 11 , 12))"
   ]
  },
  {
   "cell_type": "code",
   "execution_count": null,
   "metadata": {
    "collapsed": true
   },
   "outputs": [],
   "source": []
  }
 ],
 "metadata": {
  "kernelspec": {
   "display_name": "Python 3",
   "language": "python",
   "name": "python3"
  },
  "language_info": {
   "codemirror_mode": {
    "name": "ipython",
    "version": 3
   },
   "file_extension": ".py",
   "mimetype": "text/x-python",
   "name": "python",
   "nbconvert_exporter": "python",
   "pygments_lexer": "ipython3",
   "version": "3.6.0"
  }
 },
 "nbformat": 4,
 "nbformat_minor": 2
}
